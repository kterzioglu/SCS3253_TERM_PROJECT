{
 "cells": [
  {
   "cell_type": "markdown",
   "metadata": {},
   "source": [
    "### Project Overview :\n",
    "Steel is the most important building materials of modern days. Surface quality of steel is essential for steel industry and detecting quality issue is very challenging.\n",
    "\n",
    "### Goals and Objective : \n",
    "The challenge is to detect and classify steel surface defects using machine and deep learning. Accuracy metrics is used to evaluate the models. \n",
    "\n",
    "Accuracy = Total Number of Correct Predictions / Total number of Images \n"
   ]
  },
  {
   "cell_type": "markdown",
   "metadata": {},
   "source": [
    "Using the below code, extracted features such as Contrast, Dissimilarity, Homogeneity, Angular Seconde Moment(ASM), Energy from iamges and stored the features in numpy array."
   ]
  },
  {
   "cell_type": "code",
   "execution_count": 2,
   "metadata": {},
   "outputs": [],
   "source": [
    "import numpy as np\n",
    "import cv2\n",
    "import os\n",
    "from skimage.feature import greycomatrix,greycoprops\n",
    "import pandas as pd"
   ]
  },
  {
   "cell_type": "code",
   "execution_count": 3,
   "metadata": {},
   "outputs": [],
   "source": [
    "input_dataset='C:\\\\Users\\\\16476\\\\Documents\\\\myProjects\\\\Data_Science\\\\SCS_3253_029 Machine Learning\\\\Term_Project\\\\NEU surface defect database' # path where the dataset is stored"
   ]
  },
  {
   "cell_type": "code",
   "execution_count": 4,
   "metadata": {},
   "outputs": [],
   "source": [
    "slices=[]\n",
    "for dirName, subdirList, fileList in os.walk(input_dataset):\n",
    "        for filename in fileList:\n",
    "            if \".bmp\" in filename.lower():\n",
    "                slices.append(cv2.imread(os.path.join(dirName, filename),0))"
   ]
  },
  {
   "cell_type": "code",
   "execution_count": 8,
   "metadata": {},
   "outputs": [
    {
     "data": {
      "text/plain": [
       "array([[186, 175, 173, ..., 104,  89,  85],\n",
       "       [168, 172, 195, ...,  92,  91, 106],\n",
       "       [193, 218, 202, ...,  86, 117, 113],\n",
       "       ...,\n",
       "       [255, 214, 195, ..., 162, 137, 125],\n",
       "       [255, 229, 233, ..., 163, 133, 130],\n",
       "       [223, 204, 206, ..., 134, 128, 135]], dtype=uint8)"
      ]
     },
     "execution_count": 8,
     "metadata": {},
     "output_type": "execute_result"
    }
   ],
   "source": [
    "slices[0]"
   ]
  },
  {
   "cell_type": "markdown",
   "metadata": {},
   "source": [
    "Calculate the grey-level co-occurrence matrix.\n",
    "\n",
    "A grey level co-occurrence matrix is a histogram of co-occurring greyscale values at a given offset over an image."
   ]
  },
  {
   "cell_type": "markdown",
   "metadata": {},
   "source": [
    "greycoprops\n",
    "\n",
    "skimage.feature.greycoprops(P, prop='contrast')\n",
    "\n",
    "Calculate texture properties of a GLCM.\n",
    "\n",
    "Compute a feature of a grey level co-occurrence matrix to serve as a compact summary of the matrix. The properties are computed as follows:"
   ]
  },
  {
   "cell_type": "markdown",
   "metadata": {},
   "source": [
    "contrast’: ∑levels−1i,j=0Pi,j(i−j)2\n",
    "\n",
    "‘dissimilarity’: ∑levels−1i,j=0Pi,j|i−j|\n",
    "\n",
    "‘homogeneity’: ∑levels−1i,j=0Pi,j1+(i−j)2\n",
    "\n",
    "‘ASM’: ∑levels−1i,j=0P2i,j\n",
    "\n",
    "‘energy’: ASM−−−−−√\n",
    "\n",
    "‘correlation’:\n",
    "∑i,j=0levels−1Pi,j⎡⎣⎢(i−μi) (j−μj)(σ2i)(σ2j)−−−−−−−√⎤⎦⎥"
   ]
  },
  {
   "cell_type": "code",
   "execution_count": 12,
   "metadata": {},
   "outputs": [
    {
     "name": "stdout",
     "output_type": "stream",
     "text": [
      "done\n"
     ]
    }
   ],
   "source": [
    "print(\"done\")\n",
    "proList = ['contrast', 'dissimilarity', 'homogeneity', 'ASM', 'energy']\n",
    "featlist= ['contrast', 'dissimilarity', 'homogeneity', 'ASM', 'energy','Label']\n",
    "properties =np.zeros(5)\n",
    "glcmMatrix = []\n",
    "final=[]\n",
    "\n",
    "for i in range(len(slices)):\n",
    "    img = slices[i]\n",
    "\n",
    "    # pyplot.imshow((images[k,:,:]),cmap='gray')\n",
    "    # pyplot.show()\n",
    "    #  get properties\n",
    "    glcmMatrix=(greycomatrix(img, [1], [0], levels=256))\n",
    "\n",
    "   # print(len(glcmMatrix))\n",
    "    # get properties\n",
    "    for j in range(0, len(proList)):\n",
    "        properties[j]=(greycoprops(glcmMatrix, prop=proList[j]))\n",
    "\n",
    "    label=(i/300)\n",
    "    features = np.array([properties[0],properties[1],properties[2],properties[3],properties[4],np.floor(label)])\n",
    "    final.append(features)"
   ]
  },
  {
   "cell_type": "code",
   "execution_count": 13,
   "metadata": {},
   "outputs": [],
   "source": [
    "df = pd.DataFrame(final,columns=featlist)\n",
    "filepath=\"C:\\\\Users\\\\16476\\\\Documents\\\\myProjects\\\\Data_Science\\\\SCS_3253_029 Machine Learning\\\\Term_Project\\\\\"+\"features_2.xlsx\"  #path where to save the features\n",
    "df.to_excel(filepath)"
   ]
  },
  {
   "cell_type": "code",
   "execution_count": null,
   "metadata": {},
   "outputs": [],
   "source": []
  }
 ],
 "metadata": {
  "kernelspec": {
   "display_name": "Python 3",
   "language": "python",
   "name": "python3"
  },
  "language_info": {
   "codemirror_mode": {
    "name": "ipython",
    "version": 3
   },
   "file_extension": ".py",
   "mimetype": "text/x-python",
   "name": "python",
   "nbconvert_exporter": "python",
   "pygments_lexer": "ipython3",
   "version": "3.7.3"
  }
 },
 "nbformat": 4,
 "nbformat_minor": 2
}
